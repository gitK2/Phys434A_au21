{
 "cells": [
  {
   "cell_type": "markdown",
   "id": "86f28c08-9476-4327-a6ad-b3b52c60bddd",
   "metadata": {},
   "source": [
    "# Lab 2: Probability, Distributions, and Statistical Questions\n",
    "\n",
    "stuff"
   ]
  },
  {
   "cell_type": "code",
   "execution_count": null,
   "id": "3a4e4f3e-774e-4e6f-9e8c-982d2bcc502c",
   "metadata": {},
   "outputs": [],
   "source": []
  }
 ],
 "metadata": {
  "kernelspec": {
   "display_name": "Python 3",
   "language": "python",
   "name": "python3"
  },
  "language_info": {
   "codemirror_mode": {
    "name": "ipython",
    "version": 3
   },
   "file_extension": ".py",
   "mimetype": "text/x-python",
   "name": "python",
   "nbconvert_exporter": "python",
   "pygments_lexer": "ipython3",
   "version": "3.8.8"
  }
 },
 "nbformat": 4,
 "nbformat_minor": 5
}
