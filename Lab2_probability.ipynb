{
 "cells": [
  {
   "cell_type": "markdown",
   "id": "86f28c08-9476-4327-a6ad-b3b52c60bddd",
   "metadata": {},
   "source": [
    "# Lab 2: Probability, Distributions, and Statistical Questions\n",
    "\n",
    "#### Kevin J. Wang"
   ]
  },
  {
   "cell_type": "code",
   "execution_count": 1,
   "id": "3a4e4f3e-774e-4e6f-9e8c-982d2bcc502c",
   "metadata": {},
   "outputs": [],
   "source": [
    "import numpy as np\n",
    "import matplotlib\n",
    "import matplotlib.pyplot as plt\n",
    "import scipy\n",
    "from scipy import stats"
   ]
  },
  {
   "cell_type": "markdown",
   "id": "5623dcfd-73a2-4838-a972-85d7244ded69",
   "metadata": {},
   "source": [
    "### Problem 1\n",
    "\n",
    "In this problem we look at a possible source of gamma rays, among the background of cosmic rays that follow a Poisson distribution. First we assume the average daily number of background cosmic rays is $X = 4$, and the average number of gamma rays emitted by our source of interest is $Y = 11$ rays.\n",
    "\n",
    "First we look at how the background distribution changes when we sum up the results from multiple days:  "
   ]
  },
  {
   "cell_type": "code",
   "execution_count": null,
   "id": "d244beb2-c1f4-48ae-822c-c874c7eb211a",
   "metadata": {},
   "outputs": [],
   "source": [
    "bg1 = [stats.poisson(4).pmf(k) for k in np.arange(0, 100)]"
   ]
  }
 ],
 "metadata": {
  "kernelspec": {
   "display_name": "Python 3",
   "language": "python",
   "name": "python3"
  },
  "language_info": {
   "codemirror_mode": {
    "name": "ipython",
    "version": 3
   },
   "file_extension": ".py",
   "mimetype": "text/x-python",
   "name": "python",
   "nbconvert_exporter": "python",
   "pygments_lexer": "ipython3",
   "version": "3.8.8"
  }
 },
 "nbformat": 4,
 "nbformat_minor": 5
}
