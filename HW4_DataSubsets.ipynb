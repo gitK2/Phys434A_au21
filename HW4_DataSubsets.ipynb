{
 "cells": [
  {
   "cell_type": "markdown",
   "id": "a0253838-8446-498b-b42c-6d3a7b7bc9ac",
   "metadata": {},
   "source": [
    "# Homework 4: Subsets of Data\n",
    "#### Kevin J. Wang\n",
    "\n",
    "In this HW we will practice examining and plotting subsets of a large set of data. "
   ]
  },
  {
   "cell_type": "markdown",
   "id": "140eadc8-9bd2-467f-9cc7-01ea5dc1ede5",
   "metadata": {},
   "source": [
    "### Problem 0:\n",
    "First we practice by making some fake background data:"
   ]
  },
  {
   "cell_type": "code",
   "execution_count": 2,
   "id": "cd058bb6-60de-462b-866e-fff81105ddd4",
   "metadata": {},
   "outputs": [],
   "source": [
    "import numpy as np\n",
    "import matplotlib\n",
    "import matplotlib.pyplot as plt\n",
    "import scipy\n",
    "from scipy import stats\n",
    "\n",
    "t = np.linspace(0, np.pi*100, int(1e5))  # time axis that goes from 0 to 100pi in 100,000 steps\n",
    "N = 10+np.sin(t)                          # an offset sinusoid\n",
    "bkgd = stats.norm.rvs(size=int(1e5))*np.sqrt(N)+N  # some random background data whose mean and variance depend on N"
   ]
  },
  {
   "cell_type": "code",
   "execution_count": null,
   "id": "7ac8e0f0-5f00-47c7-b0e3-efdd23211339",
   "metadata": {},
   "outputs": [],
   "source": []
  }
 ],
 "metadata": {
  "kernelspec": {
   "display_name": "Python 3",
   "language": "python",
   "name": "python3"
  },
  "language_info": {
   "codemirror_mode": {
    "name": "ipython",
    "version": 3
   },
   "file_extension": ".py",
   "mimetype": "text/x-python",
   "name": "python",
   "nbconvert_exporter": "python",
   "pygments_lexer": "ipython3",
   "version": "3.8.8"
  }
 },
 "nbformat": 4,
 "nbformat_minor": 5
}
