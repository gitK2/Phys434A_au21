{
 "cells": [
  {
   "cell_type": "markdown",
   "id": "2899317e-0928-4a20-8a2e-6838944d2131",
   "metadata": {},
   "source": [
    "# Lab 7: Event Selection Optimization\n",
    "#### Kevin J. Wang\n"
   ]
  },
  {
   "cell_type": "markdown",
   "id": "e8914dc7-459f-4b79-82b9-166a56d85500",
   "metadata": {},
   "source": [
    "#### Loading Data: "
   ]
  },
  {
   "cell_type": "code",
   "execution_count": 1,
   "id": "e50127d5-e315-4537-898b-36e338cecfaa",
   "metadata": {},
   "outputs": [],
   "source": [
    "# import libraries\n",
    "import pickle\n",
    "import math\n",
    "import numpy as np\n",
    "import matplotlib\n",
    "import matplotlib.pyplot as plt\n",
    "import scipy\n",
    "from scipy import stats\n",
    "\n",
    "# open the file of interest, and use pickle loading\n",
    "bgfile = open (\"/home/jovyan/Phys434_data/qcd_100000_pt_1000_1200.pkl\",'rb')\n",
    "qcd_dict = pickle.load(bgfile)\n",
    "bgfile.close()\n",
    "sgfile = open (\"/home/jovyan/Phys434_data/higgs_100000_pt_1000_1200.pkl\",'rb')\n",
    "hig_dict = pickle.load(sgfile)\n",
    "sgfile.close()"
   ]
  },
  {
   "cell_type": "code",
   "execution_count": 3,
   "id": "61fc5be6-4877-4af3-865c-3ceddf32d98c",
   "metadata": {},
   "outputs": [
    {
     "name": "stdout",
     "output_type": "stream",
     "text": [
      "qcd keys:  Index(['pt', 'eta', 'phi', 'mass', 'ee2', 'ee3', 'd2', 'angularity', 't1',\n",
      "       't2', 't3', 't21', 't32', 'KtDeltaR'],\n",
      "      dtype='object')\n",
      "higgs heys:  Index(['pt', 'eta', 'phi', 'mass', 'ee2', 'ee3', 'd2', 'angularity', 't1',\n",
      "       't2', 't3', 't21', 't32', 'KtDeltaR'],\n",
      "      dtype='object')\n",
      "\n",
      "higgs jets:  100000\n",
      "QCD jets:  100000\n",
      "\n"
     ]
    }
   ],
   "source": [
    "# list all keys of the files\n",
    "print(\"qcd keys: \", qcd_dict.keys())\n",
    "print(\"higgs heys: \", hig_dict.keys())\n",
    "print()\n",
    "\n",
    "# How many data points are in these dicts?\n",
    "print(\"higgs jets: \", len(hig_dict['pt']))\n",
    "print(\"QCD jets: \", len(qcd_dict['pt']))\n",
    "print()\n"
   ]
  },
  {
   "cell_type": "markdown",
   "id": "37ac4ad8-1438-483c-a5af-d09e4a15e9be",
   "metadata": {},
   "source": [
    "Lab instructions: \"Lab 7. Event selection optimization You and your lab partner should pick different pT (transverse momentum) samples (one uses low-pT sampels and the other use high-pT samples) for this lab. In each pT sample, there are dedicated training samples for event selection optimization. All studies should be carried out by normalizing Higgs and QCD samples in each pT sample to given expected yields accordingly (See Dataset descriptions).\"\n",
    "\n",
    "My sample:  \n",
    "high PT: Sample_pt_1000_1200\n",
    "\n",
    "Training sample and normalization  \n",
    "higgs_100000_pt_1000_1200.pkl (Expected yields  Nhiggs=50 )  \n",
    "qcd_100000_pt_1000_1200.pkl (Expected yields  Nqcd=2000 )\n",
    "\n",
    "Pseudo-experiments  \n",
    "data_highLumi_pt_1000_1200.h5  \n",
    "data_lowLumi_pt_1000_1200.h5  "
   ]
  },
  {
   "cell_type": "markdown",
   "id": "45e0f66e-d01b-4cf0-8eab-f756e39cd6f2",
   "metadata": {},
   "source": [
    "### Problem 1. \n",
    "Here is a stacked histogram plot for the feature variable \"mass\": "
   ]
  },
  {
   "cell_type": "code",
   "execution_count": 8,
   "id": "f908d480-47b3-4a6a-ab07-2b9e31ed97e0",
   "metadata": {},
   "outputs": [
    {
     "data": {
      "image/png": "[encoded data removed]",
      "text/plain": [
       "<Figure size 432x288 with 2 Axes>"
      ]
     },
     "metadata": {
      "needs_background": "light"
     },
     "output_type": "display_data"
    }
   ],
   "source": [
    "fig, ax = plt.subplots(2)\n",
    "ax[0].set_title(\"Mass: Stacked Histogram (not normalized)\")\n",
    "ax[0].hist((qcd_dict['mass'], hig_dict['mass']), bins=40, histtype='bar', stacked=True)\n",
    "ax[0].set_xlabel('mass', size = 16)\n",
    "ax[1].set_title(\"Mass: Histogram (not normalized)\")\n",
    "ax[1].hist((qcd_dict['mass'], hig_dict['mass']), bins=40, histtype='bar', stacked=False, alpha=0.6)\n",
    "ax[1].set_xlabel('mass', size = 16)\n",
    "plt.show()\n"
   ]
  },
  {
   "cell_type": "code",
   "execution_count": null,
   "id": "f6a39fc9-3c88-4d9b-8068-dc14b137bacb",
   "metadata": {},
   "outputs": [],
   "source": []
  }
 ],
 "metadata": {
  "kernelspec": {
   "display_name": "Python 3",
   "language": "python",
   "name": "python3"
  },
  "language_info": {
   "codemirror_mode": {
    "name": "ipython",
    "version": 3
   },
   "file_extension": ".py",
   "mimetype": "text/x-python",
   "name": "python",
   "nbconvert_exporter": "python",
   "pygments_lexer": "ipython3",
   "version": "3.8.8"
  }
 },
 "nbformat": 4,
 "nbformat_minor": 5
}
