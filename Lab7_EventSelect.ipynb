{
 "cells": [
  {
   "cell_type": "markdown",
   "id": "2899317e-0928-4a20-8a2e-6838944d2131",
   "metadata": {},
   "source": [
    "# Lab 7: Event Selection Optimization\n",
    "#### Kevin J. Wang\n"
   ]
  },
  {
   "cell_type": "markdown",
   "id": "e8914dc7-459f-4b79-82b9-166a56d85500",
   "metadata": {},
   "source": [
    "Loading data"
   ]
  },
  {
   "cell_type": "code",
   "execution_count": 1,
   "id": "e50127d5-e315-4537-898b-36e338cecfaa",
   "metadata": {},
   "outputs": [],
   "source": [
    "# import libraries\n",
    "import pickle\n",
    "import math\n",
    "import numpy as np\n",
    "import matplotlib\n",
    "import matplotlib.pyplot as plt\n",
    "import scipy\n",
    "from scipy import stats\n",
    "\n",
    "# open the file of interest, and use pickle loading\n",
    "bgfile = open (\"/home/jovyan/Phys434_data/qcd_100000_pt_1000_1200.pkl\",'rb')\n",
    "qcd_dict = pickle.load(bgfile)\n",
    "bgfile.close()\n",
    "sgfile = open (\"/home/jovyan/Phys434_data/higgs_100000_pt_1000_1200.pkl\",'rb')\n",
    "hig_dict = pickle.load(sgfile)\n",
    "sgfile.close()"
   ]
  },
  {
   "cell_type": "code",
   "execution_count": 2,
   "id": "61fc5be6-4877-4af3-865c-3ceddf32d98c",
   "metadata": {},
   "outputs": [
    {
     "name": "stdout",
     "output_type": "stream",
     "text": [
      "qcd keys:  Index(['pt', 'eta', 'phi', 'mass', 'ee2', 'ee3', 'd2', 'angularity', 't1',\n",
      "       't2', 't3', 't21', 't32', 'KtDeltaR'],\n",
      "      dtype='object')\n",
      "higgs heys:  Index(['pt', 'eta', 'phi', 'mass', 'ee2', 'ee3', 'd2', 'angularity', 't1',\n",
      "       't2', 't3', 't21', 't32', 'KtDeltaR'],\n",
      "      dtype='object')\n",
      "\n",
      "higgs jets:  100000\n",
      "QCD jets:  100000\n",
      "\n",
      "272.01088105661836 3.244342529835572\n",
      "139.7944080424717 6.481473283811561\n",
      "245.4131462450914 2.6347878568119545\n",
      "89.97591625467423 13.389844946183699\n",
      "85.89395606420216 11.342156212232954\n",
      "298.82680391098984 2.525105538419591\n",
      "120.11684917359369 3.0180758748270313\n",
      "144.69776811306357 7.180292494621935\n",
      "99.67094594080851 7.004058591448358\n",
      "246.64401978773606 1.2917788826098395\n"
     ]
    }
   ],
   "source": [
    "# list all keys of the files\n",
    "print(\"qcd keys: \", qcd_dict.keys())\n",
    "print(\"higgs heys: \", hig_dict.keys())\n",
    "print()\n",
    "\n",
    "# How many data points are in these dicts?\n",
    "print(\"higgs jets: \", len(hig_dict['pt']))\n",
    "print(\"QCD jets: \", len(qcd_dict['pt']))\n",
    "print()\n",
    "\n",
    "# Try printing two variables, mass and d2, of the first 10 background jets\n",
    "for i in range(10):\n",
    "    print(qcd_dict['mass'][i],qcd_dict['d2'][i])"
   ]
  },
  {
   "cell_type": "markdown",
   "id": "37ac4ad8-1438-483c-a5af-d09e4a15e9be",
   "metadata": {},
   "source": [
    "Lab instructions: \"Lab 7. Event selection optimization You and your lab partner should pick different pT (transverse momentum) samples (one uses low-pT sampels and the other use high-pT samples) for this lab. In each pT sample, there are dedicated training samples for event selection optimization. All studies should be carried out by normalizing Higgs and QCD samples in each pT sample to given expected yields accordingly (See Dataset descriptions).\"\n",
    "\n",
    "My sample:  \n",
    "high PT: Sample_pt_1000_1200\n",
    "\n",
    "Training sample and normalization  \n",
    "higgs_100000_pt_1000_1200.pkl (Expected yields  Nhiggs=50 )  \n",
    "qcd_100000_pt_1000_1200.pkl (Expected yields  Nqcd=2000 )\n",
    "\n",
    "Pseudo-experiments  \n",
    "data_highLumi_pt_1000_1200.h5  \n",
    "data_lowLumi_pt_1000_1200.h5  "
   ]
  },
  {
   "cell_type": "code",
   "execution_count": null,
   "id": "d082d34e-20d3-4bec-ae9b-a4f76d99c349",
   "metadata": {},
   "outputs": [],
   "source": []
  }
 ],
 "metadata": {
  "kernelspec": {
   "display_name": "Python 3",
   "language": "python",
   "name": "python3"
  },
  "language_info": {
   "codemirror_mode": {
    "name": "ipython",
    "version": 3
   },
   "file_extension": ".py",
   "mimetype": "text/x-python",
   "name": "python",
   "nbconvert_exporter": "python",
   "pygments_lexer": "ipython3",
   "version": "3.8.8"
  }
 },
 "nbformat": 4,
 "nbformat_minor": 5
}
