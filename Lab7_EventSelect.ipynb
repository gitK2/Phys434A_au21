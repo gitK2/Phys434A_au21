{
 "cells": [
  {
   "cell_type": "markdown",
   "id": "2899317e-0928-4a20-8a2e-6838944d2131",
   "metadata": {},
   "source": [
    "# Lab 7: Event Selection Optimization\n",
    "#### Kevin J. Wang\n"
   ]
  },
  {
   "cell_type": "code",
   "execution_count": null,
   "id": "c159f085-4b99-462a-b6e5-71152e4d27b7",
   "metadata": {},
   "outputs": [],
   "source": []
  }
 ],
 "metadata": {
  "kernelspec": {
   "display_name": "Python 3",
   "language": "python",
   "name": "python3"
  },
  "language_info": {
   "codemirror_mode": {
    "name": "ipython",
    "version": 3
   },
   "file_extension": ".py",
   "mimetype": "text/x-python",
   "name": "python",
   "nbconvert_exporter": "python",
   "pygments_lexer": "ipython3",
   "version": "3.8.8"
  }
 },
 "nbformat": 4,
 "nbformat_minor": 5
}
