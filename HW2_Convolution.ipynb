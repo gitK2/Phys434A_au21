{
 "cells": [
  {
   "cell_type": "markdown",
   "id": "0f107d49-60db-4087-bcd3-a80390e6910f",
   "metadata": {},
   "source": [
    "## Homework 2: Dice Rolling and Convolution\n",
    "#### Kevin J. Wang\n",
    "\n",
    "1: When rolling 2 six-sided dice, rolling a sum of seven is more probable than rolling snake eyes (2 ones). The ratio of probabilities is 6 to 1. "
   ]
  },
  {
   "cell_type": "markdown",
   "id": "266037c6-9775-467d-92ef-71556c637e2d",
   "metadata": {},
   "source": [
    "2: The probability distribution for the sum of 2 six-sided dice is the convolution of the distributions for individual dice. So, we do  \n",
    "$P_{sum}(x) = f(x) * g(x) = \\sum_{n=1}^{6} f(n)g(x-n)$  \n",
    "where \n",
    "$$\n",
    "f(x) = g(x) = \n",
    "\\begin{cases}\n",
    "      1/6 & x={1,2,3,4,5,6} \\\\\n",
    "      0 & elsewhere \\\\\n",
    "\\end{cases}\n",
    "$$\n",
    "This gives us $P_{sum}(x) = \\sum_{n=1}^{6} \\frac{1}{6} g(x-n)$ which we can evaluate for x=2 to x=12:  \n",
    "$P_{sum}(2) = 1/36$  \n",
    "$P_{sum}(3) = 2/36$  \n",
    "$P_{sum}(4) = 3/36$  \n",
    "$P_{sum}(5) = 4/36$  \n",
    "$P_{sum}(6) = 5/36$  \n",
    "$P_{sum}(7) = 6/36$  \n",
    "$P_{sum}(8) = 5/36$  \n",
    "$P_{sum}(9) = 4/36$  \n",
    "$P_{sum}(10) = 3/36$  \n",
    "$P_{sum}(11) = 2/36$  \n",
    "$P_{sum}(12) = 1/36$  \n",
    "This is a very tedious way to do this using mathmatical equations. However, Professor Morales also showed us a great intuitive way to do this exact same problem in Lecture 4.\n",
    "\n",
    "To do this using Python code, one can use the scipy.signal.convolve(in1, in2) function:"
   ]
  },
  {
   "cell_type": "code",
   "execution_count": 42,
   "id": "8f1bf674-8759-44f6-ab95-240ff4d7db27",
   "metadata": {},
   "outputs": [
    {
     "data": {
      "text/plain": [
       "array([0.02777778, 0.05555556, 0.08333333, 0.11111111, 0.13888889,\n",
       "       0.16666667, 0.13888889, 0.11111111, 0.08333333, 0.05555556,\n",
       "       0.02777778])"
      ]
     },
     "execution_count": 42,
     "metadata": {},
     "output_type": "execute_result"
    }
   ],
   "source": [
    "import matplotlib\n",
    "import matplotlib.pyplot as plt\n",
    "import scipy.signal\n",
    "from scipy import stats\n",
    "\n",
    "f = [1/6, 1/6, 1/6, 1/6, 1/6, 1/6]\n",
    "probs = scipy.signal.convolve(f, f)\n",
    "probs"
   ]
  },
  {
   "cell_type": "markdown",
   "id": "9757eb40-42a9-4c5a-9217-417beb59d0ba",
   "metadata": {},
   "source": [
    "Now that we have a list of probabilities, we must be careful to match them with the right sum."
   ]
  },
  {
   "cell_type": "code",
   "execution_count": 43,
   "id": "86d54a05-9682-46f9-a4e9-798496b4bf5d",
   "metadata": {},
   "outputs": [
    {
     "data": {
      "image/png": "[encoded data removed]",
      "text/plain": [
       "<Figure size 432x288 with 1 Axes>"
      ]
     },
     "metadata": {
      "needs_background": "light"
     },
     "output_type": "display_data"
    }
   ],
   "source": [
    "dice_rolls = range(2,13)\n",
    "fig, ax = plt.subplots(1, 1)\n",
    "ax.set_title(\"Probability for Sum of 2 Six-sided Dice\")\n",
    "ax.bar(dice_rolls, probs)\n",
    "ax.set_xlabel('sum of the 2 dice rolls')\n",
    "ax.set_ylabel('Probability')\n",
    "plt.show()"
   ]
  },
  {
   "cell_type": "markdown",
   "id": "7700206b-52e6-40e3-9256-9396ebcb9c37",
   "metadata": {},
   "source": [
    "3: To find the mean of the distribution in problem 2, one can see that it is symmetrical, so the middle value of 7 is the mean u. To calculate this mathematically, take the weighted sum of all the possible roll results."
   ]
  },
  {
   "cell_type": "code",
   "execution_count": 44,
   "id": "f4aaa37d-d058-44fa-8ccb-7331af18e8fc",
   "metadata": {},
   "outputs": [
    {
     "name": "stdout",
     "output_type": "stream",
     "text": [
      "u = 7.0\n"
     ]
    }
   ],
   "source": [
    "mean_sum = 0\n",
    "for i in range(len(dice_rolls)):\n",
    "    mean_sum += (dice_rolls[i] * probs[i])\n",
    "print(\"u = \" + str(mean_sum))"
   ]
  },
  {
   "cell_type": "markdown",
   "id": "270928a4-ebc2-4cb7-8d28-4e34f491f672",
   "metadata": {},
   "source": [
    "To find the variance, use the formula $Var(P_{sum}) = \\sum_{n=1}^{11} p_n \\cdot (x_n - u)^2 $  \n",
    "where p is the list of probabilities, x is the list of roll results, and u is the expected value/mean."
   ]
  },
  {
   "cell_type": "code",
   "execution_count": 45,
   "id": "cb9d9a9a-4950-4316-9925-b66f96bff557",
   "metadata": {},
   "outputs": [
    {
     "name": "stdout",
     "output_type": "stream",
     "text": [
      "variance = 5.833333333333334\n"
     ]
    }
   ],
   "source": [
    "variance = 0\n",
    "for n in range(len(dice_rolls)):\n",
    "    variance += probs[n] * (dice_rolls[n] - mean_sum)**2\n",
    "print(\"variance = \" + str(variance))"
   ]
  },
  {
   "cell_type": "markdown",
   "id": "018e8cce-1d9f-4d63-b5f9-1cc31045fd7d",
   "metadata": {},
   "source": [
    "4: To roll 10 six-sided dice and find the probability distribution for the average, convolve 10 single die probability distributions together, and then divide the dice roll sums by 10 to get the average instead of the sum."
   ]
  },
  {
   "cell_type": "code",
   "execution_count": 46,
   "id": "206167cc-2622-405f-96ac-278290335f2d",
   "metadata": {},
   "outputs": [
    {
     "data": {
      "text/plain": [
       "array([1.65381717e-08, 1.65381717e-07, 9.09599443e-07, 3.63839777e-06,\n",
       "       1.18247928e-05, 3.31094197e-05, 8.26081676e-05, 1.87542867e-04,\n",
       "       3.92946959e-04, 7.67701930e-04, 1.40951530e-03, 2.44665712e-03,\n",
       "       4.03407353e-03, 6.34189270e-03, 9.53533096e-03, 1.37465945e-02,\n",
       "       1.90415547e-02, 2.53867551e-02, 3.26236936e-02, 4.04573294e-02,\n",
       "       4.84643679e-02, 5.61241048e-02, 6.28704385e-02, 6.81581055e-02,\n",
       "       7.15327194e-02, 7.26928060e-02, 7.15327194e-02, 6.81581055e-02,\n",
       "       6.28704385e-02, 5.61241048e-02, 4.84643679e-02, 4.04573294e-02,\n",
       "       3.26236936e-02, 2.53867551e-02, 1.90415547e-02, 1.37465945e-02,\n",
       "       9.53533096e-03, 6.34189270e-03, 4.03407353e-03, 2.44665712e-03,\n",
       "       1.40951530e-03, 7.67701930e-04, 3.92946959e-04, 1.87542867e-04,\n",
       "       8.26081676e-05, 3.31094197e-05, 1.18247928e-05, 3.63839777e-06,\n",
       "       9.09599443e-07, 1.65381717e-07, 1.65381717e-08])"
      ]
     },
     "execution_count": 46,
     "metadata": {},
     "output_type": "execute_result"
    }
   ],
   "source": [
    "f = [1/6, 1/6, 1/6, 1/6, 1/6, 1/6]\n",
    "conv_result = f.copy()\n",
    "for i in range(9):\n",
    "    conv_result = scipy.signal.convolve(conv_result, f)\n",
    "conv_result"
   ]
  },
  {
   "cell_type": "code",
   "execution_count": 47,
   "id": "093d4c90-353e-46ce-92e2-5621b45ca686",
   "metadata": {},
   "outputs": [
    {
     "data": {
      "image/png": "[encoded data removed]",
      "text/plain": [
       "<Figure size 432x288 with 1 Axes>"
      ]
     },
     "metadata": {
      "needs_background": "light"
     },
     "output_type": "display_data"
    }
   ],
   "source": [
    "dice_sums = range(10,61)\n",
    "dice_avgs = list(dice_sums)\n",
    "for i in range(len(dice_avgs)):\n",
    "    dice_avgs[i] = dice_avgs[i] / 10\n",
    "fig, ax = plt.subplots(1, 1)\n",
    "ax.set_title(\"Probability for Mean of 10 Six-sided Dice\")\n",
    "ax.bar(dice_avgs, conv_result)\n",
    "ax.set_xlabel('avg of the 10 dice rolls')\n",
    "ax.set_ylabel('Probability')\n",
    "plt.show()"
   ]
  },
  {
   "cell_type": "markdown",
   "id": "dffe9784-fc88-4ef0-a41e-627ee2c67389",
   "metadata": {},
   "source": [
    "This looks somewhat like a gaussian distribution, but not exactly, since the top of the curve is flat, and the curve has maximum and minimum values of 1 and 6 instead of +- infinity."
   ]
  },
  {
   "cell_type": "markdown",
   "id": "fc03cfda-3353-408e-8599-fa51a26f2f64",
   "metadata": {},
   "source": [
    "5: "
   ]
  }
 ],
 "metadata": {
  "kernelspec": {
   "display_name": "Python 3",
   "language": "python",
   "name": "python3"
  },
  "language_info": {
   "codemirror_mode": {
    "name": "ipython",
    "version": 3
   },
   "file_extension": ".py",
   "mimetype": "text/x-python",
   "name": "python",
   "nbconvert_exporter": "python",
   "pygments_lexer": "ipython3",
   "version": "3.8.8"
  }
 },
 "nbformat": 4,
 "nbformat_minor": 5
}
