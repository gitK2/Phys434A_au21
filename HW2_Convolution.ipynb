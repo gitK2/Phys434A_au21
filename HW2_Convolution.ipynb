{
 "cells": [
  {
   "cell_type": "markdown",
   "id": "0f107d49-60db-4087-bcd3-a80390e6910f",
   "metadata": {},
   "source": [
    "# Homework 2\n",
    "## Dice Rolling and Convolution\n",
    "\n",
    "1: When rolling 2 six-sided dice, rolling a sum of seven is more probable than rolling snake eyes (2 ones). The ratio of probabilities is 6 to 1. "
   ]
  },
  {
   "cell_type": "code",
   "execution_count": null,
   "id": "cbcabdda-f6ad-4168-89f1-0e7e54e3c644",
   "metadata": {},
   "outputs": [],
   "source": []
  }
 ],
 "metadata": {
  "kernelspec": {
   "display_name": "Python 3",
   "language": "python",
   "name": "python3"
  },
  "language_info": {
   "codemirror_mode": {
    "name": "ipython",
    "version": 3
   },
   "file_extension": ".py",
   "mimetype": "text/x-python",
   "name": "python",
   "nbconvert_exporter": "python",
   "pygments_lexer": "ipython3",
   "version": "3.8.8"
  }
 },
 "nbformat": 4,
 "nbformat_minor": 5
}
