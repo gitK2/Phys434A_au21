{
 "cells": [
  {
   "cell_type": "markdown",
   "id": "05786002-48d5-40ab-b068-63d7198d9df6",
   "metadata": {},
   "source": [
    "# Lab 5: Getting Started with LHC Higgs Boson Data\n",
    "#### Kevin J. Wang\n",
    "\n",
    "### Intro\n",
    "In labs 5-8, I will analyze simulated Large Hadron Collider data to search for the Higgs boson. This involves distinguishing between particle jets produced by Higgs bosons and jets produced by the QCD (quantum chromodynamic) background.\n",
    "\n",
    "### Loading Data\n",
    "First, I load the data using Python's pickle module. Some example code for doing this was provided in the instructions for this lab.  \n",
    "I will look at the high $\\rho_T$ (pT or 'pt') data set, and my partner Joseph Livesey will use the low $\\rho_T$ (pT or 'pt') data set. The qcd_100000_pt_1000_1200.pkl file has simulated jets produced by QCD background, and higgs_100000_pt_1000_1200.pkl has simulated jets produced by Higgs bosons."
   ]
  },
  {
   "cell_type": "code",
   "execution_count": 1,
   "id": "9d16be42-8118-4520-9d2e-6d9d2cc2aae6",
   "metadata": {},
   "outputs": [],
   "source": [
    "# import library\n",
    "import pickle\n",
    "\n",
    "# open the file of interest, and use pickle loading\n",
    "bgfile = open (\"/home/jovyan/Phys434_data/qcd_100000_pt_1000_1200.pkl\",'rb')\n",
    "qcd_dict = pickle.load(bgfile)\n",
    "bgfile.close()\n",
    "sgfile = open (\"/home/jovyan/Phys434_data/higgs_100000_pt_1000_1200.pkl\",'rb')\n",
    "hig_dict = pickle.load(sgfile)\n",
    "sgfile.close()"
   ]
  },
  {
   "cell_type": "markdown",
   "id": "ed36413f-2662-4508-9508-d4fd88be9cc5",
   "metadata": {},
   "source": [
    "The keys of these dicts are various features of particle jets detected by the ATLAS detector at the LHC. Information about these features can be found in the paper \"Identification of boosted Higgs bosons decaying into b-quark pairs with the ATLAS detector at 13 TeV\" at https://atlas.web.cern.ch/Atlas/GROUPS/PHYSICS/PAPERS/PERF-2017-04/ in table 1 on page 17. "
   ]
  },
  {
   "cell_type": "code",
   "execution_count": 2,
   "id": "c08a626b-067e-41d7-8fab-48c86a1e70f7",
   "metadata": {},
   "outputs": [
    {
     "name": "stdout",
     "output_type": "stream",
     "text": [
      "qcd keys:  Index(['pt', 'eta', 'phi', 'mass', 'ee2', 'ee3', 'd2', 'angularity', 't1',\n",
      "       't2', 't3', 't21', 't32', 'KtDeltaR'],\n",
      "      dtype='object')\n",
      "higgs heys:  Index(['pt', 'eta', 'phi', 'mass', 'ee2', 'ee3', 'd2', 'angularity', 't1',\n",
      "       't2', 't3', 't21', 't32', 'KtDeltaR'],\n",
      "      dtype='object')\n",
      "\n",
      "higgs jets:  100000\n",
      "QCD jets:  100000\n",
      "\n",
      "272.01088105661836 3.244342529835572\n",
      "139.7944080424717 6.481473283811561\n",
      "245.4131462450914 2.6347878568119545\n",
      "89.97591625467423 13.389844946183699\n",
      "85.89395606420216 11.342156212232954\n",
      "298.82680391098984 2.525105538419591\n",
      "120.11684917359369 3.0180758748270313\n",
      "144.69776811306357 7.180292494621935\n",
      "99.67094594080851 7.004058591448358\n",
      "246.64401978773606 1.2917788826098395\n"
     ]
    }
   ],
   "source": [
    "# list all keys of the files\n",
    "print(\"qcd keys: \", qcd_dict.keys())\n",
    "print(\"higgs heys: \", hig_dict.keys())\n",
    "print()\n",
    "\n",
    "# How many data points are in these dicts?\n",
    "print(\"higgs jets: \", len(hig_dict['pt']))\n",
    "print(\"QCD jets: \", len(qcd_dict['pt']))\n",
    "print()\n",
    "\n",
    "# Try printing two variables, mass and d2, of the first 10 background jets\n",
    "for i in range(10):\n",
    "    print(qcd_dict['mass'][i],qcd_dict['d2'][i])"
   ]
  },
  {
   "cell_type": "code",
   "execution_count": null,
   "id": "77230d9b-0ed4-4cd1-9e91-3e42603430df",
   "metadata": {},
   "outputs": [],
   "source": []
  },
  {
   "cell_type": "code",
   "execution_count": null,
   "id": "5654fcb8-c4b3-4359-b614-7b8a03981777",
   "metadata": {},
   "outputs": [],
   "source": []
  }
 ],
 "metadata": {
  "kernelspec": {
   "display_name": "Python 3",
   "language": "python",
   "name": "python3"
  },
  "language_info": {
   "codemirror_mode": {
    "name": "ipython",
    "version": 3
   },
   "file_extension": ".py",
   "mimetype": "text/x-python",
   "name": "python",
   "nbconvert_exporter": "python",
   "pygments_lexer": "ipython3",
   "version": "3.8.8"
  }
 },
 "nbformat": 4,
 "nbformat_minor": 5
}
