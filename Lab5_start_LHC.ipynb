{
 "cells": [
  {
   "cell_type": "markdown",
   "id": "05786002-48d5-40ab-b068-63d7198d9df6",
   "metadata": {},
   "source": [
    "# Lab 5: Getting Started with LHC Higgs Boson Data\n",
    "#### Kevin J. Wang\n",
    "\n",
    "hello"
   ]
  },
  {
   "cell_type": "code",
   "execution_count": null,
   "id": "9d16be42-8118-4520-9d2e-6d9d2cc2aae6",
   "metadata": {},
   "outputs": [],
   "source": []
  }
 ],
 "metadata": {
  "kernelspec": {
   "display_name": "Python 3",
   "language": "python",
   "name": "python3"
  },
  "language_info": {
   "codemirror_mode": {
    "name": "ipython",
    "version": 3
   },
   "file_extension": ".py",
   "mimetype": "text/x-python",
   "name": "python",
   "nbconvert_exporter": "python",
   "pygments_lexer": "ipython3",
   "version": "3.8.8"
  }
 },
 "nbformat": 4,
 "nbformat_minor": 5
}
