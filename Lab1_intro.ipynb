{
 "cells": [
  {
   "cell_type": "markdown",
   "id": "c1c9d2ad-b33d-4704-b012-fb58c0287aa7",
   "metadata": {},
   "source": [
    "# Lab \\#1\n",
    "\n",
    "### Kevin J. Wang"
   ]
  },
  {
   "cell_type": "code",
   "execution_count": 1,
   "id": "531c1e32-1a80-4368-93c2-d31dec8727ef",
   "metadata": {},
   "outputs": [],
   "source": [
    "import numpy as np\n",
    "import matplotlib\n",
    "import matplotlib.pyplot as plt\n",
    "import scipy\n",
    "from scipy import stats"
   ]
  },
  {
   "cell_type": "markdown",
   "id": "209934a0-1b98-43c9-8c15-1b7f57a0e996",
   "metadata": {},
   "source": []
  },
  {
   "cell_type": "code",
   "execution_count": 2,
   "id": "189544e0-fb13-4665-a13d-d1659613e5fc",
   "metadata": {},
   "outputs": [],
   "source": [
    "d = stats.norm.cdf(0.1)\n",
    "d"
   ]
  },
  {
   "cell_type": "code",
   "execution_count": null,
   "id": "72116c8f-3d93-4fcd-997a-9551c9629937",
   "metadata": {},
   "outputs": [],
   "source": []
  }
 ],
 "metadata": {
  "kernelspec": {
   "display_name": "Python 3",
   "language": "python",
   "name": "python3"
  },
  "language_info": {
   "codemirror_mode": {
    "name": "ipython",
    "version": 3
   },
   "file_extension": ".py",
   "mimetype": "text/x-python",
   "name": "python",
   "nbconvert_exporter": "python",
   "pygments_lexer": "ipython3",
   "version": "3.8.8"
  }
 },
 "nbformat": 4,
 "nbformat_minor": 5
}
